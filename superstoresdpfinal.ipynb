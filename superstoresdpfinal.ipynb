{
 "cells": [
  {
   "cell_type": "markdown",
   "id": "98ff0a80",
   "metadata": {},
   "source": [
    "***GENERATED CODE FOR superstoresdpfinal PIPELINE.***"
   ]
  },
  {
   "cell_type": "markdown",
   "id": "47c3f558",
   "metadata": {},
   "source": [
    "***DON'T EDIT THIS CODE.***"
   ]
  },
  {
   "cell_type": "markdown",
   "id": "501c14a0",
   "metadata": {},
   "source": [
    "***CONNECTOR FUNCTIONS TO READ DATA.***"
   ]
  },
  {
   "cell_type": "code",
   "execution_count": null,
   "id": "d49eb11b",
   "metadata": {},
   "outputs": [],
   "source": [
    "import os\n",
    "import datetime\n",
    "import logging\n",
    "import warnings\n",
    "warnings.filterwarnings('ignore')\n",
    "logging.basicConfig(format='%(levelname)s:%(message)s', level=logging.INFO)\n",
    "\n",
    "\n",
    "class HDFSConnector:\n",
    "\n",
    "    def fetch(spark, config):\n",
    "        ################### INPUT HADOOP HOST PORT TO CONNECT WITH ###############################\n",
    "        hdfs_server = str(os.environ['HDFS_SERVER'])\n",
    "        hdfs_port = int(os.environ['HDFS_PORT'])\n",
    "        df = spark.read.options(header='true', inferschema='true').csv(\n",
    "            f\"hdfs://{hdfs_server}:{hdfs_port}{eval(config)['url']}\", header='true')\n",
    "        display(df.limit(2).toPandas())\n",
    "        return df\n",
    "\n",
    "    def put(df, spark, config):\n",
    "        return df.write.format('csv').options(header='true' if eval(config)[\"is_header\"] == \"Use Header Line\" else 'false',\n",
    "                                              delimiter=eval(config)[\"delimiter\"]).save((\"%s %s\") % (datetime.datetime.now().strftime(\"%Y-%m-%d %H.%M.%S\")+\"_\", eval(config)['url']))\n"
   ]
  },
  {
   "cell_type": "markdown",
   "id": "73c8ac5f",
   "metadata": {},
   "source": [
    "***OPERATION FUNCTIONS***"
   ]
  },
  {
   "cell_type": "code",
   "execution_count": null,
   "id": "239afc9e",
   "metadata": {},
   "outputs": [],
   "source": [
    "import pyspark\n",
    "from dask.dataframe import from_pandas\n",
    "import json\n",
    "\n",
    "\n",
    "def SortData(df, functionsData, applyOn=[]):\n",
    "    for functiondata in functionsData:\n",
    "        coldetail = functiondata['column']\n",
    "        sortdetails = functiondata['order']\n",
    "        for col in coldetail:\n",
    "            colname = col['columnName']\n",
    "    if sortdetails == \"asc\":\n",
    "        SortReq = True\n",
    "    else:\n",
    "        SortReq = False\n",
    "\n",
    "    df = df.set_index(colname)\n",
    "    #df = df.sort_values(by = colname, ascending=SortReq)\n",
    "\n",
    "    df = df.map_partitions(lambda df: df.sort_values(\n",
    "        [colname], ascending=SortReq)).reset_index()\n",
    "\n",
    "    return df\n",
    "\n",
    "\n",
    "def runDataCleansing(sparkDf, spark, config):\n",
    "    configObj = json.loads(config)\n",
    "    sparkDf.persist(pyspark.StorageLevel.MEMORY_AND_DISK)\n",
    "    df = from_pandas((sparkDf.toPandas()), npartitions=5)\n",
    "    functionList = configObj['functionsApplied']\n",
    "    Data_Cleansing_Methods = {\"replaceBy\": replaceValues,\n",
    "                              \"formula\": calculateFormula,\n",
    "                              \"aggregate\": aggregation,\n",
    "                              \"converttostringtype\": changeToString,\n",
    "                              \"editname\": renameColumns}\n",
    "    for function in functionList:\n",
    "        function['functionName']\n",
    "        df = Data_Cleansing_Methods[function['functionName']](df, function['functionsData'],\n",
    "                                                              function['applyOn'])\n",
    "    sparkDf = spark.createDataFrame(df.compute())\n",
    "\n",
    "    display(sparkDf.limit(2).toPandas())\n",
    "    return sparkDf\n"
   ]
  },
  {
   "cell_type": "markdown",
   "id": "bca58141",
   "metadata": {},
   "source": [
    "***CONNECTOR FUNCTIONS TO WRITE DATA.***"
   ]
  },
  {
   "cell_type": "code",
   "execution_count": null,
   "id": "b84845cf",
   "metadata": {},
   "outputs": [],
   "source": [
    "import datetime\n",
    "import requests\n",
    "import datetime\n",
    "import logging\n",
    "import warnings\n",
    "warnings.filterwarnings('ignore')\n",
    "logging.basicConfig(format='%(levelname)s:%(message)s', level=logging.INFO)\n",
    "\n",
    "\n",
    "class NumtraConnector:\n",
    "\n",
    "    def put(inStages, inStagesData, stageId, spark, config):\n",
    "        path = eval(config)['server_url']\n",
    "        baseType = eval(config)['baseType']\n",
    "        results_url = eval(config)['results_url']\n",
    "        server = eval(config)['server']\n",
    "        originalfile = eval(config)['orignalKey']\n",
    "        eval(config)['pathOnly']\n",
    "        filename = eval(config)['filename']\n",
    "        eval(config)['ser']\n",
    "        eval(config)['user']\n",
    "        eval(config)['password']\n",
    "        eval(config)['authSource']\n",
    "        eval(config)['user_id']\n",
    "        eval(config)['parent_id']\n",
    "        eval(config)['project_id']\n",
    "        time = str(int(datetime.datetime.now().timestamp()))\n",
    "\n",
    "        inStagesData[inStages[0]]\n",
    "\n",
    "        print(path)\n",
    "        print(baseType)\n",
    "        print(results_url)\n",
    "        print(server)\n",
    "        print(originalfile)\n",
    "        print(filename)\n",
    "\n",
    "        args = {\n",
    "            'url': path,\n",
    "            'baseType': baseType,\n",
    "            'originalfile': originalfile,\n",
    "            'filename': time + filename\n",
    "        }\n",
    "\n",
    "        response = requests.post(results_url, args)\n",
    "        return response\n"
   ]
  },
  {
   "cell_type": "markdown",
   "id": "453abc72",
   "metadata": {},
   "source": [
    "***READING DATAFRAME***"
   ]
  },
  {
   "cell_type": "code",
   "execution_count": null,
   "id": "e6eeaf3c",
   "metadata": {},
   "outputs": [],
   "source": [
    "############## CREATE SPARK SESSION ############################ ENTER YOUR SPARK MASTER IP AND PORT TO CONNECT TO SERVER ################\n",
    "from pyspark.sql import SparkSession\n",
    "spark = SparkSession.builder.master('local[1]').getOrCreate()\n",
    "#%run superstoresdpfinalHooks.ipynb\n",
    "try:\n",
    "\t#sourcePreExecutionHook()\n",
    "\n",
    "\tsssaletrainnew = HDFSConnector.fetch(spark, \"{'url': '/FileStore/platform/uploadedSourceFiles/part-00000-640f45cd-8c66-40cc-9d49-2c9fd4e53118-c000.csv', 'filename': '1703089991SSSalesTrainNew.csv', 'delimiter': ',', 'file_type': 'Delimeted', 'dbfs_token': '', 'dbfs_domain': '', 'FilePath': '/Sanitytest/SSSalesTrainNew.csv', 'viewFileName': 'SSSalesTrainNew.csv', 'is_header': 'Use Header Line', 'baseType': 'hdfs', 'server_url': '/numtraPlatform/NumtraPlatformV3/uploads/platform/', 'results_url': 'http://ml.numtra.com:44040/api/read/hdfs'}\")\n",
    "\n",
    "except Exception as ex: \n",
    "\tlogging.error(ex)\n",
    "#spark.stop()\n"
   ]
  },
  {
   "cell_type": "markdown",
   "id": "3f928962",
   "metadata": {},
   "source": [
    "***PERFORMING OPERATIONS***"
   ]
  },
  {
   "cell_type": "code",
   "execution_count": null,
   "id": "a0e35b15",
   "metadata": {},
   "outputs": [],
   "source": [
    "#%run superstoresdpfinalHooks.ipynb\n",
    "try:\n",
    "\t#operationPreExecutionHook()\n",
    "\n",
    "datapreparation = runDataCleansing(sssaletrainnew,spark,json.dumps( {\"url\": \"/FileStore/platform/uploadedSourceFiles/part-00000-640f45cd-8c66-40cc-9d49-2c9fd4e53118-c000.csv\", \"source_attributes\": {}, \"DataPrepFile\": \"/FileStore/platform/uploadedSourceFiles/part-00000-640f45cd-8c66-40cc-9d49-2c9fd4e53118-c000.csv\", \"data_source\": \"platfiles\", \"startListenerOnly\": 1, \"dateColumnNames\": [\"OrderDateNew\"], \"FilePath\": \"/FileStore/platform/extra/65831888930f878072b068121703090446/0part.csv\", \"requestRatio\": 10.0, \"totalRows\": 4900, \"BasicStats\": {\"missingValues\": 0.0, \"numberOfColumns\": 11, \"numberOfRows\": 4900, \"duplicateRowCount\": 2, \"stats\": [{\"column\": \"OrderDateNew\", \"alias\": \"OrderDateNew\", \"generated\": 0, \"type\": \"date\", \"max\": \"20181230\", \"min\": \"201514\", \"mean\": \"\", \"missing\": 0.0, \"stddev\": \"\", \"outliers\": [], \"validation\": []}, {\"column\": \"Order Date\", \"alias\": \"Order Date\", \"generated\": 0, \"type\": \"String\", \"max\": \"9/9/2018\", \"min\": \"1/1/2018\", \"mean\": \"\", \"missing\": 0.0, \"stddev\": \"\", \"outliers\": [], \"validation\": []}, {\"column\": \"Ship Date\", \"alias\": \"Ship Date\", \"generated\": 0, \"type\": \"String\", \"max\": \"9/9/2018\", \"min\": \"1/1/2016\", \"mean\": \"\", \"missing\": 0.0, \"stddev\": \"\", \"outliers\": [], \"validation\": []}, {\"column\": \"Ship Mode\", \"alias\": \"Ship Mode\", \"generated\": 0, \"type\": \"String\", \"max\": \"Standard Class\", \"min\": \"First Class\", \"mean\": \"\", \"missing\": 0.0, \"stddev\": \"\", \"outliers\": [], \"validation\": []}, {\"column\": \"Segment\", \"alias\": \"Segment\", \"generated\": 0, \"type\": \"String\", \"max\": \"Home Office\", \"min\": \"Consumer\", \"mean\": \"\", \"missing\": 0.0, \"stddev\": \"\", \"outliers\": [], \"validation\": []}, {\"column\": \"City\", \"alias\": \"City\", \"generated\": 0, \"type\": \"String\", \"max\": \"Yuma\", \"min\": \"Akron\", \"mean\": \"\", \"missing\": 0.0, \"stddev\": \"\", \"outliers\": [], \"validation\": []}, {\"column\": \"State\", \"alias\": \"State\", \"generated\": 0, \"type\": \"String\", \"max\": \"Wisconsin\", \"min\": \"Alabama\", \"mean\": \"\", \"missing\": 0.0, \"stddev\": \"\", \"outliers\": [], \"validation\": []}, {\"column\": \"Region\", \"alias\": \"Region\", \"generated\": 0, \"type\": \"String\", \"max\": \"West\", \"min\": \"Central\", \"mean\": \"\", \"missing\": 0.0, \"stddev\": \"\", \"outliers\": [], \"validation\": []}, {\"column\": \"Category\", \"alias\": \"Category\", \"generated\": 0, \"type\": \"String\", \"max\": \"Technology\", \"min\": \"Furniture\", \"mean\": \"\", \"missing\": 0.0, \"stddev\": \"\", \"outliers\": [], \"validation\": []}, {\"column\": \"Sub-Category\", \"alias\": \"Sub-Category\", \"generated\": 0, \"type\": \"String\", \"max\": \"Tables\", \"min\": \"Accessories\", \"mean\": \"\", \"missing\": 0.0, \"stddev\": \"\", \"outliers\": [], \"validation\": []}, {\"column\": \"Sales\", \"alias\": \"Sales\", \"generated\": 0, \"type\": \"real\", \"max\": 22638.48, \"min\": 0.444, \"mean\": 229.36422014285716, \"missing\": 0.0, \"stddev\": 634.95, \"outliers\": [646.74, 572.58, 545.94, 699.93, 1067.94, 489.92, 468.9, 457.568, 636.408, 1139.92, 471.92, 1579.746, 1071.576, 613.908, 821.3, 22638.48, 604.752, 673.568, 4164.05, 629.95, 758.352, 1075.088, 509.97, 1487.04, 497.61, 700.056, 779.796, 2715.93, 617.97, 567.12, 1113.504, 2001.86, 881.93, 1503.25, 515.88, 991.764, 585.552, 1441.3, 911.424, 1706.184, 907.152, 797.944, 647.84, 509.488, 617.97, 1322.93, 853.93, 501.81, 1228.465, 575.92, 479.97, 559.992, 854.94, 698.352, 981.372, 801.568, 1023.936, 479.04, 8187.65, 674.352, 911.984, 1089.75, 1199.976, 1091.168, 2060.744, 853.092, 638.82, 1202.94, 579.95, 505.176, 821.88, 975.92, 8159.952, 1740.06, 485.88, 1325.85, 785.88, 887.103, 3059.982, 2624.985, 2519.958, 617.7, 1799.97, 9449.95, 603.92, 1801.632, 686.32, 1298.55, 1394.95, 545.88, 480.74, 616.998, 2735.952, 742.336, 1604.9, 1983.968, 978.84, 783.96, 666.344, 573.728, 3991.98, 683.144, 703.968, 601.536, 603.92, 896.99, 665.88, 559.984, 629.064, 832.93, 604.656, 657.93, 2934.33, 479.9, 733.95, 539.964, 503.96, 4548.81, 629.1, 675.12, 603.92, 485.88, 646.2, 611.058, 1049.97, 1117.92, 1218.735, 669.08, 575.92, 659.988, 909.72, 2807.84, 883.92, 479.96, 1113.024, 603.92, 764.688, 3610.848, 763.28, 1013.832, 627.168, 1819.86, 1103.97, 487.984, 662.88, 2244.48, 818.376, 600.558, 767.952, 551.985, 1573.488, 1188.0, 1018.104, 464.85, 1919.976, 699.98, 541.44, 493.92, 787.53, 563.4, 1119.984, 860.93, 769.95, 512.94, 671.94, 6354.95, 1247.64, 3149.93, 1166.92, 644.076, 599.98, 563.808, 547.136, 463.248, 710.832, 1447.65, 783.96, 947.17, 595.38, 831.936, 1379.92, 1267.53, 1022.97, 844.116, 665.88, 845.728, 535.41, 540.57, 1406.86, 563.808, 1036.624, 1123.92, 899.97, 796.425, 1099.96, 601.65, 464.97, 537.544, 659.168, 1931.04, 700.152, 599.9, 1348.704, 831.2, 913.43, 561.568, 704.9, 1090.782, 2309.65, 1004.976, 558.4, 1217.568, 979.95, 622.45, 1879.96, 586.398, 544.008, 542.94, 918.785, 999.432, 587.97, 724.08, 3080.0, 484.65, 2799.96, 1552.831, 1088.76, 959.984, 666.248, 619.95, 671.93, 479.984, 879.984, 991.2, 912.75, 801.96, 1056.86, 3083.43, 499.99, 636.86, 1259.93, 542.94, 946.344, 589.9, 601.536, 821.94, 1408.1, 517.5, 1044.63, 1114.4, 631.96, 957.5775, 626.352, 899.136, 2453.43, 842.352, 1295.84, 1399.93, 503.96, 1038.84, 1212.848, 1024.38, 523.92, 826.11, 999.96, 523.25, 696.42, 653.55, 572.16, 692.472, 647.904, 555.21, 1106.91, 523.48, 482.34, 1598.058, 1799.75, 1619.91, 485.94, 999.98, 1718.4, 801.96, 799.984, 494.376, 2025.36, 1799.994, 899.91, 546.66, 646.776, 1265.85, 675.96, 1618.37, 590.058, 883.84, 479.988, 547.136, 532.3992, 487.984, 959.968, 1013.488, 484.83, 1127.976, 490.32, 836.592, 4899.93, 479.95, 637.896, 563.43, 1363.96, 481.32, 557.585, 971.5, 901.95, 697.16, 528.43, 1287.45, 459.95, 812.736, 844.116, 658.746, 1199.976, 1088.792, 517.9, 933.536, 1121.568, 9099.93, 1272.63, 3999.95, 1006.056, 511.84, 552.56, 641.96, 1049.2, 1363.96, 2396.4, 662.84, 1979.928, 1267.65, 558.4, 979.95, 801.568, 839.988, 1349.85, 714.3, 695.7, 1335.68, 1007.979, 835.17, 704.25, 539.658, 1279.165, 2799.96, 823.96, 662.88, 863.64, 579.136, 494.376, 597.0, 854.352, 593.568, 544.008, 965.85, 1439.976, 2430.08, 635.96, 487.92, 513.024, 569.536, 1399.944, 705.544, 666.4, 532.704, 837.6, 727.296, 1024.716, 1603.136, 786.744, 4355.168, 1141.47, 722.352, 601.47, 2396.2656, 719.96, 728.946, 1599.92, 3347.37, 466.768, 841.568, 900.08, 631.782, 1606.23, 872.32, 701.372, 532.704, 747.558, 956.6648, 599.292, 837.6, 727.45, 868.59, 1043.92, 783.96, 1082.48, 1085.42, 492.835, 842.94, 1101.48, 863.128, 956.6648, 731.94, 671.544, 499.98, 1199.976, 1016.792, 1117.92, 944.93, 559.92, 659.9, 1684.752, 657.552, 1219.96, 494.982, 3040.0, 1126.02, 1263.3, 863.928, 751.92, 542.646, 1951.84, 465.18, 1421.664, 1097.544, 1424.9, 1029.95, 657.93, 1114.272, 1652.94, 2003.52, 961.48, 579.3, 1793.98, 900.08, 1117.92, 572.76, 540.048, 2575.944, 902.712, 845.488, 754.45, 474.43, 695.7, 3059.982, 892.98, 1924.16, 619.95, 2999.95, 1126.02, 963.136, 799.96, 480.96, 1245.86, 892.224, 889.536, 479.94, 647.84, 895.92, 1332.496, 659.976, 657.504, 1805.88, 1526.56, 470.376, 479.984, 677.58, 671.93, 4799.984, 482.664, 620.6145, 617.976, 2690.97, 2591.56, 501.81, 478.24, 895.92, 477.24, 2549.985, 1048.35, 677.58, 763.44, 571.44, 772.68, 623.4648, 476.8, 1458.65, 3359.952, 530.34, 587.97, 914.97, 539.97, 1399.93, 1628.82, 681.408, 704.76, 520.05, 539.97, 470.376, 1347.52, 514.165, 858.24, 470.302, 1212.96, 917.9235, 871.4, 526.45, 543.92, 1295.78, 895.92, 1044.63, 1687.8, 2395.2, 545.85, 597.132, 786.48, 526.45, 479.984, 801.6, 735.98, 1145.6, 1439.982, 1454.49, 1801.632, 462.564, 895.92, 568.728, 866.4, 4367.896, 841.568, 879.984, 1488.424, 1137.75, 638.73, 1928.78, 1282.41, 1199.8, 487.984, 825.174, 1322.352, 478.08, 1577.94, 765.625, 1931.958, 628.81, 762.594, 2054.272, 782.94, 538.194, 1292.94, 723.92, 691.96, 4663.736, 603.92, 655.9, 1169.694, 488.646, 1704.89, 1575.14, 1793.98, 580.672, 1115.91, 652.45, 595.0, 904.9, 510.24, 547.3, 1633.188, 665.408, 909.12, 1439.92, 683.952, 478.48, 579.136, 2399.6, 11199.968, 863.88, 823.96, 556.665, 614.272, 1702.12, 2665.62, 590.352, 2249.91, 975.92, 7999.98, 1359.96, 523.764, 492.768, 499.584, 761.544, 826.62, 1633.14, 544.38, 931.176, 899.136, 540.048, 671.984, 2404.704, 720.064, 563.024, 652.995, 1919.976, 811.28, 10499.97, 821.88, 2504.74, 718.116, 1259.97, 659.976, 1443.96, 977.292, 501.81, 1049.2, 516.488, 1007.232, 2065.32, 1979.89, 1242.9, 663.936, 470.376, 631.176, 559.62, 521.96, 1004.024, 1199.976, 1336.829, 872.94, 896.328, 599.97, 1669.6, 520.464, 504.9, 544.38, 1141.938, 1704.56, 1665.62, 1000.02, 839.43, 629.958, 1586.69, 695.16, 2879.952, 479.97, 1003.62, 725.84], \"validation\": []}]}, \"predictionPowerScore\": [{\"Category\": 1.0, \"City\": 0.0200392375, \"Order Date\": 0.0212610562, \"OrderDateNew\": 0.0209659365, \"Region\": 0.0, \"Sales\": 0.3484979787, \"Segment\": 0.0, \"Ship Date\": 0.0285487132, \"Ship Mode\": 0.0, \"State\": 0.0033888806, \"Sub-Category\": 1.0}, {\"Category\": 0.0, \"City\": 1.0, \"Order Date\": 0.3621862508, \"OrderDateNew\": 0.3590105724, \"Region\": 0.0536608874, \"Sales\": 0.0051682897, \"Segment\": 0.0, \"Ship Date\": 0.3793356036, \"Ship Mode\": 0.0, \"State\": 0.3170273871, \"Sub-Category\": 0.0}, {\"Category\": 0.0, \"City\": 0.1531449664, \"Order Date\": 1.0, \"OrderDateNew\": 0.9529338042, \"Region\": 0.0, \"Sales\": 0.0, \"Segment\": 0.0, \"Ship Date\": 0.5023914834, \"Ship Mode\": 0.0, \"State\": 0.0127543411, \"Sub-Category\": 0.0}, {\"Category\": 0.0, \"City\": 0.0, \"Order Date\": 0.0, \"OrderDateNew\": 1.0, \"Region\": 0.0, \"Sales\": 0.0, \"Segment\": 0.0, \"Ship Date\": 0.0, \"Ship Mode\": 0.0, \"State\": 0.0, \"Sub-Category\": 0.0}, {\"Category\": 0.0, \"City\": 0.8844199369, \"Order Date\": 0.3679190557, \"OrderDateNew\": 0.3669055888, \"Region\": 1.0, \"Sales\": 0.0216482511, \"Segment\": 0.0, \"Ship Date\": 0.4038078402, \"Ship Mode\": 0.0, \"State\": 0.9997223046, \"Sub-Category\": 0.0}, {\"Category\": 0.0, \"City\": 0.0, \"Order Date\": 0.0, \"OrderDateNew\": 0.0, \"Region\": 0.0, \"Sales\": 1.0, \"Segment\": 0.0, \"Ship Date\": 0.0, \"Ship Mode\": 0.0, \"State\": 0.0, \"Sub-Category\": 0.0215339973}, {\"Category\": 0.0, \"City\": 0.2180382317, \"Order Date\": 0.4008931763, \"OrderDateNew\": 0.3949756628, \"Region\": 0.0, \"Sales\": 0.0, \"Segment\": 1.0, \"Ship Date\": 0.4232570922, \"Ship Mode\": 0.0, \"State\": 0.0, \"Sub-Category\": 0.0}, {\"Category\": 0.0, \"City\": 0.152814563, \"Order Date\": 0.4570440576, \"OrderDateNew\": 0.4554241155, \"Region\": 0.0, \"Sales\": 0.0, \"Segment\": 0.0, \"Ship Date\": 1.0, \"Ship Mode\": 0.0, \"State\": 0.0133091352, \"Sub-Category\": 0.0}, {\"Category\": 1.107e-07, \"City\": 0.2103735785, \"Order Date\": 0.3461334602, \"OrderDateNew\": 0.335397844, \"Region\": 1.107e-07, \"Sales\": 0.0, \"Segment\": 1.107e-07, \"Ship Date\": 0.4170584991, \"Ship Mode\": 1.0, \"State\": 0.0347337597, \"Sub-Category\": 1.107e-07}, {\"Category\": 0.0, \"City\": 0.8688612711, \"Order Date\": 0.3718620232, \"OrderDateNew\": 0.3664856234, \"Region\": 0.2187168565, \"Sales\": 0.0167577163, \"Segment\": 0.0, \"Ship Date\": 0.3990719417, \"Ship Mode\": 0.0, \"State\": 1.0, \"Sub-Category\": 0.0}, {\"Category\": 0.0994408458, \"City\": 0.0, \"Order Date\": 0.0024139886, \"OrderDateNew\": 0.0040684871, \"Region\": 0.0, \"Sales\": 0.2603473836, \"Segment\": 0.0, \"Ship Date\": 0.0049896635, \"Ship Mode\": 0.0, \"State\": 0.0, \"Sub-Category\": 1.0}], \"HasBasicStats\": 1, \"functionsApplied\": [{\"functionName\": \"sortData\", \"applyOn\": [{\"columnName\": \"OrderDateNew\", \"type\": \"date\", \"min\": \"201514\", \"max\": \"20181230\", \"mean\": \"-\"}], \"functionsData\": [{\"column\": [{\"columnName\": \"OrderDateNew\", \"type\": \"date\", \"min\": \"201514\", \"max\": \"20181230\", \"mean\": \"-\"}], \"order\": \"asc\"}]}], \"functionChanges\": [{\"columnName\": \"OrderDateNew\", \"functionName\": \"sortData\", \"Type\": \"date\", \"Parameters\": [{\"column\": [{\"columnName\": \"OrderDateNew\", \"type\": \"date\", \"min\": \"201514\", \"max\": \"20181230\", \"mean\": \"-\"}], \"order\": \"asc\"}]}], \"fileheader\": [{\"field\": \"OrderDateNew\", \"alias\": \"OrderDateNew\", \"generated\": 0, \"position\": 1, \"type\": \"date\"}, {\"field\": \"Order Date\", \"alias\": \"Order Date\", \"generated\": 0, \"position\": 2, \"type\": \"String\"}, {\"field\": \"Ship Date\", \"alias\": \"Ship Date\", \"generated\": 0, \"position\": 3, \"type\": \"String\"}, {\"field\": \"Ship Mode\", \"alias\": \"Ship Mode\", \"generated\": 0, \"position\": 4, \"type\": \"String\"}, {\"field\": \"Segment\", \"alias\": \"Segment\", \"generated\": 0, \"position\": 5, \"type\": \"String\"}, {\"field\": \"City\", \"alias\": \"City\", \"generated\": 0, \"position\": 6, \"type\": \"String\"}, {\"field\": \"State\", \"alias\": \"State\", \"generated\": 0, \"position\": 7, \"type\": \"String\"}, {\"field\": \"Region\", \"alias\": \"Region\", \"generated\": 0, \"position\": 8, \"type\": \"String\"}, {\"field\": \"Category\", \"alias\": \"Category\", \"generated\": 0, \"position\": 9, \"type\": \"String\"}, {\"field\": \"Sub-Category\", \"alias\": \"Sub-Category\", \"generated\": 0, \"position\": 10, \"type\": \"String\"}, {\"field\": \"Sales\", \"alias\": \"Sales\", \"generated\": 0, \"position\": 11, \"type\": \"real\"}]}))\n",
    "\t#operationPostExecutionHook(datapreparation)\n",
    "\n",
    "except Exception as ex: \n",
    "\tlogging.error(ex)\n"
   ]
  },
  {
   "cell_type": "markdown",
   "id": "a372be12",
   "metadata": {},
   "source": [
    "***WRITING DATAFRAME***"
   ]
  },
  {
   "cell_type": "code",
   "execution_count": null,
   "id": "d4fd9981",
   "metadata": {},
   "outputs": [],
   "source": [
    "#%run superstoresdpfinalHooks.ipynb\n",
    "try:\n",
    "\t#sinkPreExecutionHook()\n",
    "\n",
    "\ttimeseries = NumtraConnector.fetch(spark, \"{'samplefile': '/FileStore/platform/sampleData/65831884930f878072b0680e/part-00000-2c9ca56f-ae38-4e17-b649-1e408da0ebee-c000.csv', 'samplecount': 533, 'originalcount': 4900, 'orignalKey': '/FileStore/platform/uploadedSourceFiles/part-00000-640f45cd-8c66-40cc-9d49-2c9fd4e53118-c000.csv', 'pathOnly': '/Timeseries', 'project_id': '6513c33db91dbaa301dd17d3', 'parent_id': '6513c33db91dbaa301dd17d3', 'original_schema': [{'checked': True, 'inherited': True, 'is_categorical': False, 'bad_values': '', 'nullable': 'true', 'field': 'Order Date', 'alias': 'Order Date', 'type': 'date', 'position': '0'}, {'checked': True, 'inherited': True, 'is_categorical': False, 'bad_values': '', 'nullable': 'true', 'field': 'Ship Date', 'alias': 'Ship Date', 'type': 'date', 'position': '1'}, {'checked': True, 'inherited': True, 'is_categorical': False, 'bad_values': '', 'nullable': 'true', 'field': 'Ship Mode', 'alias': 'Ship Mode', 'type': 'String', 'position': '2'}, {'checked': True, 'inherited': True, 'is_categorical': False, 'bad_values': '', 'nullable': 'true', 'field': 'Segment', 'alias': 'Segment', 'type': 'String', 'position': '3'}, {'checked': True, 'inherited': True, 'is_categorical': False, 'bad_values': '', 'nullable': 'true', 'field': 'City', 'alias': 'City', 'type': 'String', 'position': '4'}, {'checked': True, 'inherited': True, 'is_categorical': False, 'bad_values': '', 'nullable': 'true', 'field': 'State', 'alias': 'State', 'type': 'String', 'position': '5'}, {'checked': True, 'inherited': True, 'is_categorical': False, 'bad_values': '', 'nullable': 'true', 'field': 'Region', 'alias': 'Region', 'type': 'String', 'position': '6'}, {'checked': True, 'inherited': True, 'is_categorical': False, 'bad_values': '', 'nullable': 'true', 'field': 'Category', 'alias': 'Category', 'type': 'String', 'position': '7'}, {'checked': True, 'inherited': True, 'is_categorical': False, 'bad_values': '', 'nullable': 'true', 'field': 'Sub-Category', 'alias': 'Sub-Category', 'type': 'String', 'position': '8'}, {'checked': True, 'inherited': True, 'is_categorical': False, 'bad_values': '', 'nullable': 'true', 'field': 'Sales', 'alias': 'Sales', 'type': 'real', 'position': '9'}, {'checked': True, 'inherited': True, 'is_categorical': False, 'bad_values': '', 'nullable': 'true', 'field': 'OrderDateNew', 'alias': 'OrderDateNew', 'type': 'numeric', 'position': '10'}], 'actual_schema': [{'checked': True, 'inherited': True, 'is_categorical': False, 'bad_values': '', 'nullable': 'true', 'field': 'Order Date', 'alias': 'Order Date', 'type': 'date', 'position': '0'}, {'checked': True, 'inherited': True, 'is_categorical': False, 'bad_values': '', 'nullable': 'true', 'field': 'Ship Date', 'alias': 'Ship Date', 'type': 'date', 'position': '1'}, {'checked': True, 'inherited': True, 'is_categorical': False, 'bad_values': '', 'nullable': 'true', 'field': 'Ship Mode', 'alias': 'Ship Mode', 'type': 'String', 'position': '2'}, {'checked': True, 'inherited': True, 'is_categorical': False, 'bad_values': '', 'nullable': 'true', 'field': 'Segment', 'alias': 'Segment', 'type': 'String', 'position': '3'}, {'checked': True, 'inherited': True, 'is_categorical': False, 'bad_values': '', 'nullable': 'true', 'field': 'City', 'alias': 'City', 'type': 'String', 'position': '4'}, {'checked': True, 'inherited': True, 'is_categorical': False, 'bad_values': '', 'nullable': 'true', 'field': 'State', 'alias': 'State', 'type': 'String', 'position': '5'}, {'checked': True, 'inherited': True, 'is_categorical': False, 'bad_values': '', 'nullable': 'true', 'field': 'Region', 'alias': 'Region', 'type': 'String', 'position': '6'}, {'checked': True, 'inherited': True, 'is_categorical': False, 'bad_values': '', 'nullable': 'true', 'field': 'Category', 'alias': 'Category', 'type': 'String', 'position': '7'}, {'checked': True, 'inherited': True, 'is_categorical': False, 'bad_values': '', 'nullable': 'true', 'field': 'Sub-Category', 'alias': 'Sub-Category', 'type': 'String', 'position': '8'}, {'checked': True, 'inherited': True, 'is_categorical': False, 'bad_values': '', 'nullable': 'true', 'field': 'Sales', 'alias': 'Sales', 'type': 'real', 'position': '9'}, {'checked': True, 'inherited': True, 'is_categorical': False, 'bad_values': '', 'nullable': 'true', 'field': 'OrderDateNew', 'alias': 'OrderDateNew', 'type': 'numeric', 'position': '10'}], 'server': 'https://ml.numtra.com:443', 'server_url': '/numtraPlatform/NumtraPlatformV3/uploads/platform/', 'delimiter': ',', 'file_type': 'Delimeted', 'filename': 'SSStoresTrainFinal.csv', 'token': '', 'domain': '', 'is_header': 'Use Header Line', 'url': '/FileStore/platform/uploadedSourceFiles/part-00000-db4249da-e292-4be5-a231-08fbd2daf5a6-c000.csv', 'results_url': 'http://ml.numtra.com:44040/api/read/hdfs'}\")\n",
    "\n",
    "except Exception as ex: \n",
    "\tlogging.error(ex)\n"
   ]
  }
 ],
 "metadata": {},
 "nbformat": 4,
 "nbformat_minor": 5
}
